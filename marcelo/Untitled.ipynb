{
 "cells": [
  {
   "cell_type": "code",
   "execution_count": 117,
   "metadata": {},
   "outputs": [],
   "source": [
    "import numpy as np\n",
    "import math\n",
    "import matplotlib.pyplot as plt\n",
    "import pandas as pd\n",
    "from keras.models import Sequential\n",
    "from keras.models import model_from_json\n",
    "from keras.layers import Dense, LSTM\n",
    "from sklearn.preprocessing import MinMaxScaler\n",
    "from sklearn.metrics import mean_squared_error"
   ]
  },
  {
   "cell_type": "code",
   "execution_count": 57,
   "metadata": {},
   "outputs": [],
   "source": [
    "class Model:\n",
    "    def read_data(self, filename):\n",
    "        data = pd.read_csv(filename)\n",
    "        \n",
    "    def train_model(self):\n",
    "        pass"
   ]
  },
  {
   "cell_type": "code",
   "execution_count": 58,
   "metadata": {},
   "outputs": [],
   "source": [
    "data = pd.read_csv(\"../^BVSP.csv\")\n",
    "data = data.dropna()"
   ]
  },
  {
   "cell_type": "code",
   "execution_count": 59,
   "metadata": {},
   "outputs": [
    {
     "data": {
      "text/html": [
       "<div>\n",
       "<style scoped>\n",
       "    .dataframe tbody tr th:only-of-type {\n",
       "        vertical-align: middle;\n",
       "    }\n",
       "\n",
       "    .dataframe tbody tr th {\n",
       "        vertical-align: top;\n",
       "    }\n",
       "\n",
       "    .dataframe thead th {\n",
       "        text-align: right;\n",
       "    }\n",
       "</style>\n",
       "<table border=\"1\" class=\"dataframe\">\n",
       "  <thead>\n",
       "    <tr style=\"text-align: right;\">\n",
       "      <th></th>\n",
       "      <th>Date</th>\n",
       "      <th>Open</th>\n",
       "      <th>High</th>\n",
       "      <th>Low</th>\n",
       "      <th>Close</th>\n",
       "      <th>Adj Close</th>\n",
       "      <th>Volume</th>\n",
       "    </tr>\n",
       "  </thead>\n",
       "  <tbody>\n",
       "    <tr>\n",
       "      <th>0</th>\n",
       "      <td>2006-04-17</td>\n",
       "      <td>38086.0</td>\n",
       "      <td>38698.0</td>\n",
       "      <td>38086.0</td>\n",
       "      <td>38462.0</td>\n",
       "      <td>38462.0</td>\n",
       "      <td>0.0</td>\n",
       "    </tr>\n",
       "    <tr>\n",
       "      <th>1</th>\n",
       "      <td>2006-04-18</td>\n",
       "      <td>38466.0</td>\n",
       "      <td>39584.0</td>\n",
       "      <td>38466.0</td>\n",
       "      <td>39572.0</td>\n",
       "      <td>39572.0</td>\n",
       "      <td>0.0</td>\n",
       "    </tr>\n",
       "    <tr>\n",
       "      <th>2</th>\n",
       "      <td>2006-04-19</td>\n",
       "      <td>39581.0</td>\n",
       "      <td>40026.0</td>\n",
       "      <td>39492.0</td>\n",
       "      <td>39938.0</td>\n",
       "      <td>39938.0</td>\n",
       "      <td>0.0</td>\n",
       "    </tr>\n",
       "    <tr>\n",
       "      <th>3</th>\n",
       "      <td>2006-04-20</td>\n",
       "      <td>39941.0</td>\n",
       "      <td>40278.0</td>\n",
       "      <td>39435.0</td>\n",
       "      <td>39775.0</td>\n",
       "      <td>39775.0</td>\n",
       "      <td>0.0</td>\n",
       "    </tr>\n",
       "    <tr>\n",
       "      <th>5</th>\n",
       "      <td>2006-04-24</td>\n",
       "      <td>39775.0</td>\n",
       "      <td>40089.0</td>\n",
       "      <td>39616.0</td>\n",
       "      <td>39751.0</td>\n",
       "      <td>39751.0</td>\n",
       "      <td>0.0</td>\n",
       "    </tr>\n",
       "  </tbody>\n",
       "</table>\n",
       "</div>"
      ],
      "text/plain": [
       "         Date     Open     High      Low    Close  Adj Close  Volume\n",
       "0  2006-04-17  38086.0  38698.0  38086.0  38462.0    38462.0     0.0\n",
       "1  2006-04-18  38466.0  39584.0  38466.0  39572.0    39572.0     0.0\n",
       "2  2006-04-19  39581.0  40026.0  39492.0  39938.0    39938.0     0.0\n",
       "3  2006-04-20  39941.0  40278.0  39435.0  39775.0    39775.0     0.0\n",
       "5  2006-04-24  39775.0  40089.0  39616.0  39751.0    39751.0     0.0"
      ]
     },
     "execution_count": 59,
     "metadata": {},
     "output_type": "execute_result"
    }
   ],
   "source": [
    "data.head()"
   ]
  },
  {
   "cell_type": "code",
   "execution_count": 75,
   "metadata": {},
   "outputs": [
    {
     "name": "stderr",
     "output_type": "stream",
     "text": [
      "/usr/local/lib/python3.6/dist-packages/ipykernel_launcher.py:1: FutureWarning: Method .as_matrix will be removed in a future version. Use .values instead.\n",
      "  \"\"\"Entry point for launching an IPython kernel.\n"
     ]
    }
   ],
   "source": [
    "values = data['Open'].as_matrix().reshape(len(data['Open']), 1)"
   ]
  },
  {
   "cell_type": "code",
   "execution_count": 77,
   "metadata": {},
   "outputs": [],
   "source": [
    "dataset = values.astype('float32')"
   ]
  },
  {
   "cell_type": "code",
   "execution_count": 96,
   "metadata": {},
   "outputs": [],
   "source": [
    "# normalize the dataset\n",
    "scaler = MinMaxScaler(feature_range=(0, 1))\n",
    "dataset = scaler.fit_transform(dataset)"
   ]
  },
  {
   "cell_type": "code",
   "execution_count": 82,
   "metadata": {},
   "outputs": [
    {
     "name": "stdout",
     "output_type": "stream",
     "text": [
      "2152 1060\n"
     ]
    }
   ],
   "source": [
    "# split into train and test sets\n",
    "train_size = int(len(dataset) * 0.67)\n",
    "test_size = len(dataset) - train_size\n",
    "train, test = dataset[0:train_size,:], dataset[train_size:len(dataset),:]\n",
    "print(len(train), len(test))"
   ]
  },
  {
   "cell_type": "code",
   "execution_count": 84,
   "metadata": {},
   "outputs": [],
   "source": [
    "# convert an array of values into a dataset matrix\n",
    "def create_dataset(dataset, look_back=1):\n",
    "    dataX, dataY = [], []\n",
    "    for i in range(len(dataset)-look_back-1):\n",
    "        a = dataset[i:(i+look_back), 0]\n",
    "        dataX.append(a)\n",
    "        dataY.append(dataset[i + look_back, 0])\n",
    "    return numpy.array(dataX), numpy.array(dataY)"
   ]
  },
  {
   "cell_type": "code",
   "execution_count": 85,
   "metadata": {},
   "outputs": [],
   "source": [
    "# reshape into X=t and Y=t+1\n",
    "look_back = 1\n",
    "trainX, trainY = create_dataset(train, look_back)\n",
    "testX, testY = create_dataset(test, look_back)"
   ]
  },
  {
   "cell_type": "code",
   "execution_count": 86,
   "metadata": {},
   "outputs": [],
   "source": [
    "# reshape input to be [samples, time steps, features]\n",
    "trainX = numpy.reshape(trainX, (trainX.shape[0], 1, trainX.shape[1]))\n",
    "testX = numpy.reshape(testX, (testX.shape[0], 1, testX.shape[1]))"
   ]
  },
  {
   "cell_type": "code",
   "execution_count": 87,
   "metadata": {},
   "outputs": [
    {
     "name": "stdout",
     "output_type": "stream",
     "text": [
      "WARNING:tensorflow:From /usr/local/lib/python3.6/dist-packages/tensorflow/python/framework/op_def_library.py:263: colocate_with (from tensorflow.python.framework.ops) is deprecated and will be removed in a future version.\n",
      "Instructions for updating:\n",
      "Colocations handled automatically by placer.\n",
      "WARNING:tensorflow:From /usr/local/lib/python3.6/dist-packages/tensorflow/python/ops/math_ops.py:3066: to_int32 (from tensorflow.python.ops.math_ops) is deprecated and will be removed in a future version.\n",
      "Instructions for updating:\n",
      "Use tf.cast instead.\n",
      "Epoch 1/100\n",
      " - 5s - loss: 0.0212\n",
      "Epoch 2/100\n",
      " - 3s - loss: 0.0011\n",
      "Epoch 3/100\n",
      " - 5s - loss: 2.5657e-04\n",
      "Epoch 4/100\n",
      " - 5s - loss: 2.4563e-04\n",
      "Epoch 5/100\n",
      " - 5s - loss: 2.2768e-04\n",
      "Epoch 6/100\n",
      " - 4s - loss: 2.1355e-04\n",
      "Epoch 7/100\n",
      " - 3s - loss: 2.0713e-04\n",
      "Epoch 8/100\n",
      " - 4s - loss: 2.0428e-04\n",
      "Epoch 9/100\n",
      " - 4s - loss: 1.9975e-04\n",
      "Epoch 10/100\n",
      " - 4s - loss: 2.0034e-04\n",
      "Epoch 11/100\n",
      " - 4s - loss: 1.9401e-04\n",
      "Epoch 12/100\n",
      " - 4s - loss: 1.9615e-04\n",
      "Epoch 13/100\n",
      " - 4s - loss: 1.9540e-04\n",
      "Epoch 14/100\n",
      " - 3s - loss: 1.9691e-04\n",
      "Epoch 15/100\n",
      " - 3s - loss: 1.9852e-04\n",
      "Epoch 16/100\n",
      " - 3s - loss: 1.9551e-04\n",
      "Epoch 17/100\n",
      " - 3s - loss: 1.9478e-04\n",
      "Epoch 18/100\n",
      " - 3s - loss: 1.9511e-04\n",
      "Epoch 19/100\n",
      " - 3s - loss: 1.9609e-04\n",
      "Epoch 20/100\n",
      " - 3s - loss: 1.9649e-04\n",
      "Epoch 21/100\n",
      " - 3s - loss: 1.9464e-04\n",
      "Epoch 22/100\n",
      " - 3s - loss: 1.9362e-04\n",
      "Epoch 23/100\n",
      " - 3s - loss: 1.9621e-04\n",
      "Epoch 24/100\n",
      " - 3s - loss: 1.9510e-04\n",
      "Epoch 25/100\n",
      " - 3s - loss: 1.9417e-04\n",
      "Epoch 26/100\n",
      " - 3s - loss: 1.9516e-04\n",
      "Epoch 27/100\n",
      " - 3s - loss: 1.9124e-04\n",
      "Epoch 28/100\n",
      " - 3s - loss: 1.9578e-04\n",
      "Epoch 29/100\n",
      " - 3s - loss: 1.9448e-04\n",
      "Epoch 30/100\n",
      " - 3s - loss: 1.9615e-04\n",
      "Epoch 31/100\n",
      " - 3s - loss: 1.9457e-04\n",
      "Epoch 32/100\n",
      " - 3s - loss: 1.9292e-04\n",
      "Epoch 33/100\n",
      " - 3s - loss: 1.9401e-04\n",
      "Epoch 34/100\n",
      " - 3s - loss: 1.9304e-04\n",
      "Epoch 35/100\n",
      " - 3s - loss: 1.9526e-04\n",
      "Epoch 36/100\n",
      " - 3s - loss: 1.9552e-04\n",
      "Epoch 37/100\n",
      " - 3s - loss: 1.9285e-04\n",
      "Epoch 38/100\n",
      " - 3s - loss: 1.9393e-04\n",
      "Epoch 39/100\n",
      " - 3s - loss: 1.9291e-04\n",
      "Epoch 40/100\n",
      " - 3s - loss: 1.9291e-04\n",
      "Epoch 41/100\n",
      " - 3s - loss: 1.9761e-04\n",
      "Epoch 42/100\n",
      " - 3s - loss: 1.9176e-04\n",
      "Epoch 43/100\n",
      " - 3s - loss: 1.9701e-04\n",
      "Epoch 44/100\n",
      " - 3s - loss: 1.9241e-04\n",
      "Epoch 45/100\n",
      " - 3s - loss: 1.9807e-04\n",
      "Epoch 46/100\n",
      " - 3s - loss: 1.9589e-04\n",
      "Epoch 47/100\n",
      " - 3s - loss: 1.9504e-04\n",
      "Epoch 48/100\n",
      " - 3s - loss: 1.9587e-04\n",
      "Epoch 49/100\n",
      " - 3s - loss: 1.9660e-04\n",
      "Epoch 50/100\n",
      " - 4s - loss: 1.9630e-04\n",
      "Epoch 51/100\n",
      " - 7s - loss: 1.9126e-04\n",
      "Epoch 52/100\n",
      " - 5s - loss: 1.9457e-04\n",
      "Epoch 53/100\n",
      " - 8s - loss: 1.9238e-04\n",
      "Epoch 54/100\n",
      " - 6s - loss: 1.9193e-04\n",
      "Epoch 55/100\n",
      " - 6s - loss: 1.9495e-04\n",
      "Epoch 56/100\n",
      " - 4s - loss: 1.9604e-04\n",
      "Epoch 57/100\n",
      " - 6s - loss: 1.9601e-04\n",
      "Epoch 58/100\n",
      " - 5s - loss: 1.9401e-04\n",
      "Epoch 59/100\n",
      " - 5s - loss: 1.9509e-04\n",
      "Epoch 60/100\n",
      " - 5s - loss: 1.9322e-04\n",
      "Epoch 61/100\n",
      " - 6s - loss: 1.9390e-04\n",
      "Epoch 62/100\n",
      " - 5s - loss: 1.9507e-04\n",
      "Epoch 63/100\n",
      " - 5s - loss: 1.9296e-04\n",
      "Epoch 64/100\n",
      " - 9s - loss: 1.9611e-04\n",
      "Epoch 65/100\n",
      " - 9s - loss: 1.9653e-04\n",
      "Epoch 66/100\n",
      " - 3s - loss: 1.9366e-04\n",
      "Epoch 67/100\n",
      " - 3s - loss: 1.9390e-04\n",
      "Epoch 68/100\n",
      " - 3s - loss: 1.9231e-04\n",
      "Epoch 69/100\n",
      " - 3s - loss: 1.9050e-04\n",
      "Epoch 70/100\n",
      " - 3s - loss: 1.9183e-04\n",
      "Epoch 71/100\n",
      " - 3s - loss: 1.9269e-04\n",
      "Epoch 72/100\n",
      " - 3s - loss: 1.9696e-04\n",
      "Epoch 73/100\n",
      " - 4s - loss: 1.9540e-04\n",
      "Epoch 74/100\n",
      " - 4s - loss: 1.9579e-04\n",
      "Epoch 75/100\n",
      " - 4s - loss: 1.9332e-04\n",
      "Epoch 76/100\n",
      " - 4s - loss: 1.9194e-04\n",
      "Epoch 77/100\n",
      " - 4s - loss: 1.9103e-04\n",
      "Epoch 78/100\n",
      " - 4s - loss: 1.9379e-04\n",
      "Epoch 79/100\n",
      " - 4s - loss: 1.9626e-04\n",
      "Epoch 80/100\n",
      " - 4s - loss: 1.9382e-04\n",
      "Epoch 81/100\n",
      " - 4s - loss: 1.9183e-04\n",
      "Epoch 82/100\n",
      " - 3s - loss: 1.9420e-04\n",
      "Epoch 83/100\n",
      " - 4s - loss: 1.9668e-04\n",
      "Epoch 84/100\n",
      " - 4s - loss: 1.9369e-04\n",
      "Epoch 85/100\n",
      " - 4s - loss: 1.9053e-04\n",
      "Epoch 86/100\n",
      " - 4s - loss: 1.9349e-04\n",
      "Epoch 87/100\n",
      " - 4s - loss: 1.9229e-04\n",
      "Epoch 88/100\n",
      " - 4s - loss: 1.9404e-04\n",
      "Epoch 89/100\n",
      " - 4s - loss: 1.9190e-04\n",
      "Epoch 90/100\n",
      " - 4s - loss: 1.9605e-04\n",
      "Epoch 91/100\n",
      " - 4s - loss: 1.9186e-04\n",
      "Epoch 92/100\n",
      " - 4s - loss: 1.9385e-04\n",
      "Epoch 93/100\n",
      " - 3s - loss: 1.9343e-04\n",
      "Epoch 94/100\n",
      " - 3s - loss: 1.9349e-04\n",
      "Epoch 95/100\n",
      " - 4s - loss: 1.9197e-04\n",
      "Epoch 96/100\n",
      " - 3s - loss: 1.9053e-04\n",
      "Epoch 97/100\n",
      " - 3s - loss: 1.9449e-04\n",
      "Epoch 98/100\n",
      " - 3s - loss: 1.9437e-04\n",
      "Epoch 99/100\n",
      " - 4s - loss: 1.9275e-04\n",
      "Epoch 100/100\n",
      " - 4s - loss: 1.9344e-04\n"
     ]
    },
    {
     "data": {
      "text/plain": [
       "<keras.callbacks.History at 0x7f377f6f5da0>"
      ]
     },
     "execution_count": 87,
     "metadata": {},
     "output_type": "execute_result"
    }
   ],
   "source": [
    "# create and fit the LSTM network\n",
    "model = Sequential()\n",
    "model.add(LSTM(4, input_shape=(1, look_back)))\n",
    "model.add(Dense(1))\n",
    "model.compile(loss='mean_squared_error', optimizer='adam')\n",
    "model.fit(trainX, trainY, epochs=100, batch_size=1, verbose=2)"
   ]
  },
  {
   "cell_type": "code",
   "execution_count": 93,
   "metadata": {},
   "outputs": [
    {
     "name": "stdout",
     "output_type": "stream",
     "text": [
      "Train Score: 0.01 RMSE\n",
      "Test Score: 0.02 RMSE\n"
     ]
    }
   ],
   "source": [
    "# make predictions\n",
    "trainPredict = model.predict(trainX)\n",
    "testPredict = model.predict(testX)\n",
    "# invert predictions\n",
    "trainPredict = scaler.inverse_transform(trainPredict)\n",
    "trainY = scaler.inverse_transform(trainY)\n",
    "testPredict = scaler.inverse_transform(testPredict)\n",
    "testY = scaler.inverse_transform(testY)\n",
    "# calculate root mean squared error\n",
    "trainScore = math.sqrt(mean_squared_error(trainY[0], trainPredict[:,0]))\n",
    "print('Train Score: %.2f RMSE' % (trainScore))\n",
    "testScore = math.sqrt(mean_squared_error(testY[0], testPredict[:,0]))\n",
    "print('Test Score: %.2f RMSE' % (testScore))"
   ]
  },
  {
   "cell_type": "code",
   "execution_count": 95,
   "metadata": {},
   "outputs": [
    {
     "data": {
      "image/png": "[encoded data removed]",
      "text/plain": [
       "<Figure size 432x288 with 1 Axes>"
      ]
     },
     "metadata": {
      "needs_background": "light"
     },
     "output_type": "display_data"
    }
   ],
   "source": [
    "# shift train predictions for plotting\n",
    "trainPredictPlot = numpy.empty_like(dataset)\n",
    "trainPredictPlot[:, :] = numpy.nan\n",
    "trainPredictPlot[look_back:len(trainPredict)+look_back, :] = trainPredict\n",
    "# shift test predictions for plotting\n",
    "testPredictPlot = numpy.empty_like(dataset)\n",
    "testPredictPlot[:, :] = numpy.nan\n",
    "testPredictPlot[len(trainPredict)+(look_back*2)+1:len(dataset)-1, :] = testPredict\n",
    "# plot baseline and predictions\n",
    "plt.plot(scaler.inverse_transform(dataset))\n",
    "plt.plot(trainPredictPlot)\n",
    "plt.plot(testPredictPlot)\n",
    "plt.show()"
   ]
  },
  {
   "cell_type": "code",
   "execution_count": 121,
   "metadata": {},
   "outputs": [
    {
     "name": "stdout",
     "output_type": "stream",
     "text": [
      "Saved model to disk\n"
     ]
    }
   ],
   "source": [
    "# serialize model to JSON\n",
    "model_json = model.to_json()\n",
    "with open(\"model.json\", \"w\") as json_file:\n",
    "    json_file.write(model_json)\n",
    "# serialize weights to HDF5\n",
    "model.save_weights(\"model.h5\")\n",
    "print(\"Saved model to disk\")"
   ]
  },
  {
   "cell_type": "code",
   "execution_count": 122,
   "metadata": {},
   "outputs": [
    {
     "name": "stdout",
     "output_type": "stream",
     "text": [
      "Loaded model from disk\n"
     ]
    }
   ],
   "source": [
    "# load json and create model\n",
    "json_file = open('model.json', 'r')\n",
    "loaded_model_json = json_file.read()\n",
    "json_file.close()\n",
    "loaded_model = model_from_json(loaded_model_json)\n",
    "# load weights into new model\n",
    "loaded_model.load_weights(\"model.h5\")\n",
    "print(\"Loaded model from disk\")"
   ]
  },
  {
   "cell_type": "code",
   "execution_count": 124,
   "metadata": {},
   "outputs": [],
   "source": [
    "loaded_model.compile(loss='mean_squared_error', optimizer='adam')"
   ]
  },
  {
   "cell_type": "code",
   "execution_count": null,
   "metadata": {},
   "outputs": [],
   "source": []
  }
 ],
 "metadata": {
  "kernelspec": {
   "display_name": "Python 3",
   "language": "python",
   "name": "python3"
  },
  "language_info": {
   "codemirror_mode": {
    "name": "ipython",
    "version": 3
   },
   "file_extension": ".py",
   "mimetype": "text/x-python",
   "name": "python",
   "nbconvert_exporter": "python",
   "pygments_lexer": "ipython3",
   "version": "3.6.7"
  }
 },
 "nbformat": 4,
 "nbformat_minor": 2
}
